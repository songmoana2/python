{
 "cells": [
  {
   "cell_type": "code",
   "execution_count": null,
   "id": "9dc7aab8",
   "metadata": {},
   "outputs": [],
   "source": [
    "#!pip install yahoo-finance \n",
    "#!pip install pandas-datareader\n",
    "#!pip install tensorflow"
   ]
  },
  {
   "cell_type": "code",
   "execution_count": 2,
   "id": "e69fd42a",
   "metadata": {},
   "outputs": [],
   "source": [
    "from pandas_datareader import data\n",
    "import matplotlib.pyplot as plt\n",
    "import pandas as pd\n",
    "\n",
    "import numpy as np\n",
    "import tensorflow as tf\n",
    "\n",
    "np.random.seed(0)\n",
    "tf.random.set_seed(0) "
   ]
  },
  {
   "cell_type": "code",
   "execution_count": 3,
   "id": "2ffd2b83",
   "metadata": {},
   "outputs": [
    {
     "data": {
      "text/html": [
       "<div>\n",
       "<style scoped>\n",
       "    .dataframe tbody tr th:only-of-type {\n",
       "        vertical-align: middle;\n",
       "    }\n",
       "\n",
       "    .dataframe tbody tr th {\n",
       "        vertical-align: top;\n",
       "    }\n",
       "\n",
       "    .dataframe thead th {\n",
       "        text-align: right;\n",
       "    }\n",
       "</style>\n",
       "<table border=\"1\" class=\"dataframe\">\n",
       "  <thead>\n",
       "    <tr style=\"text-align: right;\">\n",
       "      <th></th>\n",
       "      <th>High</th>\n",
       "      <th>Low</th>\n",
       "      <th>Open</th>\n",
       "      <th>Close</th>\n",
       "      <th>Volume</th>\n",
       "      <th>Adj Close</th>\n",
       "    </tr>\n",
       "    <tr>\n",
       "      <th>Date</th>\n",
       "      <th></th>\n",
       "      <th></th>\n",
       "      <th></th>\n",
       "      <th></th>\n",
       "      <th></th>\n",
       "      <th></th>\n",
       "    </tr>\n",
       "  </thead>\n",
       "  <tbody>\n",
       "    <tr>\n",
       "      <th>2015-01-05</th>\n",
       "      <td>26720.0</td>\n",
       "      <td>26260.0</td>\n",
       "      <td>26720.0</td>\n",
       "      <td>26660.0</td>\n",
       "      <td>10139500.0</td>\n",
       "      <td>22273.216797</td>\n",
       "    </tr>\n",
       "    <tr>\n",
       "      <th>2015-01-06</th>\n",
       "      <td>26340.0</td>\n",
       "      <td>25760.0</td>\n",
       "      <td>26300.0</td>\n",
       "      <td>25900.0</td>\n",
       "      <td>15235500.0</td>\n",
       "      <td>21638.275391</td>\n",
       "    </tr>\n",
       "    <tr>\n",
       "      <th>2015-01-07</th>\n",
       "      <td>26220.0</td>\n",
       "      <td>25640.0</td>\n",
       "      <td>25880.0</td>\n",
       "      <td>26140.0</td>\n",
       "      <td>14322750.0</td>\n",
       "      <td>21838.787109</td>\n",
       "    </tr>\n",
       "    <tr>\n",
       "      <th>2015-01-08</th>\n",
       "      <td>26780.0</td>\n",
       "      <td>26200.0</td>\n",
       "      <td>26780.0</td>\n",
       "      <td>26280.0</td>\n",
       "      <td>14477600.0</td>\n",
       "      <td>21955.746094</td>\n",
       "    </tr>\n",
       "    <tr>\n",
       "      <th>2015-01-09</th>\n",
       "      <td>26440.0</td>\n",
       "      <td>26280.0</td>\n",
       "      <td>26280.0</td>\n",
       "      <td>26280.0</td>\n",
       "      <td>9312400.0</td>\n",
       "      <td>21955.746094</td>\n",
       "    </tr>\n",
       "  </tbody>\n",
       "</table>\n",
       "</div>"
      ],
      "text/plain": [
       "               High      Low     Open    Close      Volume     Adj Close\n",
       "Date                                                                    \n",
       "2015-01-05  26720.0  26260.0  26720.0  26660.0  10139500.0  22273.216797\n",
       "2015-01-06  26340.0  25760.0  26300.0  25900.0  15235500.0  21638.275391\n",
       "2015-01-07  26220.0  25640.0  25880.0  26140.0  14322750.0  21838.787109\n",
       "2015-01-08  26780.0  26200.0  26780.0  26280.0  14477600.0  21955.746094\n",
       "2015-01-09  26440.0  26280.0  26280.0  26280.0   9312400.0  21955.746094"
      ]
     },
     "metadata": {},
     "output_type": "display_data"
    },
    {
     "data": {
      "text/html": [
       "<div>\n",
       "<style scoped>\n",
       "    .dataframe tbody tr th:only-of-type {\n",
       "        vertical-align: middle;\n",
       "    }\n",
       "\n",
       "    .dataframe tbody tr th {\n",
       "        vertical-align: top;\n",
       "    }\n",
       "\n",
       "    .dataframe thead th {\n",
       "        text-align: right;\n",
       "    }\n",
       "</style>\n",
       "<table border=\"1\" class=\"dataframe\">\n",
       "  <thead>\n",
       "    <tr style=\"text-align: right;\">\n",
       "      <th></th>\n",
       "      <th>High</th>\n",
       "      <th>Low</th>\n",
       "      <th>Open</th>\n",
       "      <th>Close</th>\n",
       "      <th>Volume</th>\n",
       "      <th>Adj Close</th>\n",
       "    </tr>\n",
       "    <tr>\n",
       "      <th>Date</th>\n",
       "      <th></th>\n",
       "      <th></th>\n",
       "      <th></th>\n",
       "      <th></th>\n",
       "      <th></th>\n",
       "      <th></th>\n",
       "    </tr>\n",
       "  </thead>\n",
       "  <tbody>\n",
       "    <tr>\n",
       "      <th>2022-06-08</th>\n",
       "      <td>65700.0</td>\n",
       "      <td>65300.0</td>\n",
       "      <td>65400.0</td>\n",
       "      <td>65300.0</td>\n",
       "      <td>12483180.0</td>\n",
       "      <td>65300.0</td>\n",
       "    </tr>\n",
       "    <tr>\n",
       "      <th>2022-06-09</th>\n",
       "      <td>65200.0</td>\n",
       "      <td>64500.0</td>\n",
       "      <td>65100.0</td>\n",
       "      <td>65200.0</td>\n",
       "      <td>25790725.0</td>\n",
       "      <td>65200.0</td>\n",
       "    </tr>\n",
       "    <tr>\n",
       "      <th>2022-06-10</th>\n",
       "      <td>64400.0</td>\n",
       "      <td>63800.0</td>\n",
       "      <td>64000.0</td>\n",
       "      <td>63800.0</td>\n",
       "      <td>22193552.0</td>\n",
       "      <td>63800.0</td>\n",
       "    </tr>\n",
       "    <tr>\n",
       "      <th>2022-06-13</th>\n",
       "      <td>62800.0</td>\n",
       "      <td>62100.0</td>\n",
       "      <td>62400.0</td>\n",
       "      <td>62100.0</td>\n",
       "      <td>22157816.0</td>\n",
       "      <td>62100.0</td>\n",
       "    </tr>\n",
       "    <tr>\n",
       "      <th>2022-06-14</th>\n",
       "      <td>62200.0</td>\n",
       "      <td>61100.0</td>\n",
       "      <td>61200.0</td>\n",
       "      <td>61900.0</td>\n",
       "      <td>24606419.0</td>\n",
       "      <td>61900.0</td>\n",
       "    </tr>\n",
       "  </tbody>\n",
       "</table>\n",
       "</div>"
      ],
      "text/plain": [
       "               High      Low     Open    Close      Volume  Adj Close\n",
       "Date                                                                 \n",
       "2022-06-08  65700.0  65300.0  65400.0  65300.0  12483180.0    65300.0\n",
       "2022-06-09  65200.0  64500.0  65100.0  65200.0  25790725.0    65200.0\n",
       "2022-06-10  64400.0  63800.0  64000.0  63800.0  22193552.0    63800.0\n",
       "2022-06-13  62800.0  62100.0  62400.0  62100.0  22157816.0    62100.0\n",
       "2022-06-14  62200.0  61100.0  61200.0  61900.0  24606419.0    61900.0"
      ]
     },
     "metadata": {},
     "output_type": "display_data"
    },
    {
     "name": "stdout",
     "output_type": "stream",
     "text": [
      "주가 저장 완료\n"
     ]
    },
    {
     "data": {
      "image/png": "[encoded data removed]",
      "text/plain": [
       "<Figure size 432x288 with 1 Axes>"
      ]
     },
     "metadata": {
      "needs_background": "light"
     },
     "output_type": "display_data"
    }
   ],
   "source": [
    "start_date = '2015-01-04'\n",
    "end_date = '2022-06-14'\n",
    "\n",
    "# get stock data from yahoo finance\n",
    "stock = data.DataReader('005930.KS', 'yahoo', start_date, end_date)\n",
    "\n",
    "display(stock.head())\n",
    "display(stock.tail())\n",
    "\n",
    "stock['Close'].plot() # stock graph\n",
    "stock.to_csv('stock_data.csv')\n",
    "print('save')"
   ]
  },
  {
   "cell_type": "code",
   "execution_count": 4,
   "id": "3978f46c",
   "metadata": {},
   "outputs": [
    {
     "data": {
      "text/plain": [
       "1828"
      ]
     },
     "execution_count": 4,
     "metadata": {},
     "output_type": "execute_result"
    }
   ],
   "source": [
    "type(stock)   # pandas.core.frame.DataFrame\n",
    "len(stock)    # 107"
   ]
  },
  {
   "cell_type": "code",
   "execution_count": 5,
   "id": "f85ededd",
   "metadata": {
    "scrolled": false
   },
   "outputs": [
    {
     "data": {
      "text/plain": [
       "Date\n",
       "2015-01-05    26660.0\n",
       "2015-01-06    25900.0\n",
       "2015-01-07    26140.0\n",
       "2015-01-08    26280.0\n",
       "2015-01-09    26280.0\n",
       "               ...   \n",
       "2022-06-08    65300.0\n",
       "2022-06-09    65200.0\n",
       "2022-06-10    63800.0\n",
       "2022-06-13    62100.0\n",
       "2022-06-14    61900.0\n",
       "Name: Close, Length: 1828, dtype: float64"
      ]
     },
     "execution_count": 5,
     "metadata": {},
     "output_type": "execute_result"
    }
   ],
   "source": [
    "stock['Close'] # series"
   ]
  },
  {
   "cell_type": "code",
   "execution_count": 6,
   "id": "4ef243d7",
   "metadata": {
    "scrolled": true
   },
   "outputs": [
    {
     "data": {
      "text/plain": [
       "array([[0.07637094],\n",
       "       [0.06546081],\n",
       "       [0.06890612],\n",
       "       ...,\n",
       "       [0.60953201],\n",
       "       [0.58512776],\n",
       "       [0.58225668]])"
      ]
     },
     "execution_count": 6,
     "metadata": {},
     "output_type": "execute_result"
    }
   ],
   "source": [
    "import numpy as np\n",
    "from sklearn.preprocessing import MinMaxScaler\n",
    "\n",
    "sc = MinMaxScaler(feature_range=(0, 1)) # transform data -> 0~1\n",
    "close_data_all = stock['Close']\n",
    "close_data_scaled = sc.fit_transform(np.array(close_data_all).reshape(-1,1))\n",
    "close_data_scaled"
   ]
  },
  {
   "cell_type": "code",
   "execution_count": 7,
   "id": "1eb64d83",
   "metadata": {},
   "outputs": [
    {
     "data": {
      "text/plain": [
       "20"
      ]
     },
     "execution_count": 7,
     "metadata": {},
     "output_type": "execute_result"
    }
   ],
   "source": [
    "train = close_data_scaled[:len(close_data_scaled)-20] # train_data\n",
    "test = close_data_scaled[len(close_data_scaled)-20:] # validation_data\n",
    "\n",
    "len(train)  \n",
    "len(test)"
   ]
  },
  {
   "cell_type": "code",
   "execution_count": 8,
   "id": "05609552",
   "metadata": {},
   "outputs": [],
   "source": [
    "x_train = []\n",
    "y_train = []\n",
    "\n",
    "for i in range(len(train)-20):\n",
    "    x_train.append( train[i:i+20] )\n",
    "    y_train.append( train[i+20] )"
   ]
  },
  {
   "cell_type": "code",
   "execution_count": 9,
   "id": "c0dd7414",
   "metadata": {},
   "outputs": [],
   "source": [
    "x_train = np.array(x_train)\n",
    "y_train = np.array(y_train)"
   ]
  },
  {
   "cell_type": "code",
   "execution_count": 10,
   "id": "b98e95d9",
   "metadata": {},
   "outputs": [
    {
     "data": {
      "text/plain": [
       "(1788, 1)"
      ]
     },
     "execution_count": 10,
     "metadata": {},
     "output_type": "execute_result"
    }
   ],
   "source": [
    "x_train.shape\n",
    "y_train.shape"
   ]
  },
  {
   "cell_type": "code",
   "execution_count": 11,
   "id": "8f0e242c",
   "metadata": {},
   "outputs": [
    {
     "name": "stdout",
     "output_type": "stream",
     "text": [
      "Model: \"sequential\"\n",
      "_________________________________________________________________\n",
      " Layer (type)                Output Shape              Param #   \n",
      "=================================================================\n",
      " lstm (LSTM)                 (None, 20, 30)            3840      \n",
      "                                                                 \n",
      " dropout (Dropout)           (None, 20, 30)            0         \n",
      "                                                                 \n",
      " lstm_1 (LSTM)               (None, 20, 30)            7320      \n",
      "                                                                 \n",
      " dropout_1 (Dropout)         (None, 20, 30)            0         \n",
      "                                                                 \n",
      " lstm_2 (LSTM)               (None, 20, 30)            7320      \n",
      "                                                                 \n",
      " dropout_2 (Dropout)         (None, 20, 30)            0         \n",
      "                                                                 \n",
      " lstm_3 (LSTM)               (None, 30)                7320      \n",
      "                                                                 \n",
      " dropout_3 (Dropout)         (None, 30)                0         \n",
      "                                                                 \n",
      " dense (Dense)               (None, 1)                 31        \n",
      "                                                                 \n",
      "=================================================================\n",
      "Total params: 25,831\n",
      "Trainable params: 25,831\n",
      "Non-trainable params: 0\n",
      "_________________________________________________________________\n"
     ]
    }
   ],
   "source": [
    "from tensorflow.keras.models import Sequential\n",
    "from tensorflow.keras.layers import Dense\n",
    "from tensorflow.keras.layers import LSTM\n",
    "from tensorflow.keras.layers import Dropout\n",
    "\n",
    "model = Sequential()\n",
    "\n",
    "model.add(LSTM(units=30, return_sequences=True, input_shape=(20, 1))) # train 20 data at once\n",
    "model.add(Dropout(0.2))\n",
    "\n",
    "model.add(LSTM(units=30, return_sequences=True))\n",
    "model.add(Dropout(0.2))\n",
    "\n",
    "model.add(LSTM(units=30, return_sequences=True))\n",
    "model.add(Dropout(0.2))\n",
    "\n",
    "model.add(LSTM(units=30))  # no sequence return\n",
    "model.add(Dropout(0.2))\n",
    "\n",
    "\n",
    "model.add(Dense(units=1))\n",
    "\n",
    "model.compile(optimizer='adam', loss='mse')\n",
    "model.summary()"
   ]
  },
  {
   "cell_type": "code",
   "execution_count": 12,
   "id": "c91f5098",
   "metadata": {},
   "outputs": [
    {
     "name": "stdout",
     "output_type": "stream",
     "text": [
      "Epoch 1/100\n",
      "28/28 [==============================] - 5s 21ms/step - loss: 0.0394\n",
      "Epoch 2/100\n",
      "28/28 [==============================] - 1s 20ms/step - loss: 0.0079\n",
      "Epoch 3/100\n",
      "28/28 [==============================] - 1s 21ms/step - loss: 0.0053\n",
      "Epoch 4/100\n",
      "28/28 [==============================] - 1s 21ms/step - loss: 0.0048\n",
      "Epoch 5/100\n",
      "28/28 [==============================] - 1s 21ms/step - loss: 0.0049\n",
      "Epoch 6/100\n",
      "28/28 [==============================] - 1s 21ms/step - loss: 0.0045\n",
      "Epoch 7/100\n",
      "28/28 [==============================] - 1s 21ms/step - loss: 0.0041\n",
      "Epoch 8/100\n",
      "28/28 [==============================] - 1s 21ms/step - loss: 0.0042\n",
      "Epoch 9/100\n",
      "28/28 [==============================] - 1s 21ms/step - loss: 0.0040\n",
      "Epoch 10/100\n",
      "28/28 [==============================] - 1s 21ms/step - loss: 0.0041\n",
      "Epoch 11/100\n",
      "28/28 [==============================] - 1s 21ms/step - loss: 0.0038\n",
      "Epoch 12/100\n",
      "28/28 [==============================] - 1s 21ms/step - loss: 0.0041\n",
      "Epoch 13/100\n",
      "28/28 [==============================] - 1s 21ms/step - loss: 0.0034\n",
      "Epoch 14/100\n",
      "28/28 [==============================] - 1s 21ms/step - loss: 0.0039\n",
      "Epoch 15/100\n",
      "28/28 [==============================] - 1s 20ms/step - loss: 0.0037\n",
      "Epoch 16/100\n",
      "28/28 [==============================] - 1s 20ms/step - loss: 0.0034\n",
      "Epoch 17/100\n",
      "28/28 [==============================] - 1s 21ms/step - loss: 0.0035\n",
      "Epoch 18/100\n",
      "28/28 [==============================] - 1s 21ms/step - loss: 0.0037\n",
      "Epoch 19/100\n",
      "28/28 [==============================] - 1s 21ms/step - loss: 0.0034\n",
      "Epoch 20/100\n",
      "28/28 [==============================] - 1s 21ms/step - loss: 0.0032\n",
      "Epoch 21/100\n",
      "28/28 [==============================] - 1s 21ms/step - loss: 0.0035\n",
      "Epoch 22/100\n",
      "28/28 [==============================] - 1s 21ms/step - loss: 0.0031\n",
      "Epoch 23/100\n",
      "28/28 [==============================] - 1s 21ms/step - loss: 0.0030\n",
      "Epoch 24/100\n",
      "28/28 [==============================] - 1s 20ms/step - loss: 0.0028\n",
      "Epoch 25/100\n",
      "28/28 [==============================] - 1s 21ms/step - loss: 0.0032\n",
      "Epoch 26/100\n",
      "28/28 [==============================] - 1s 21ms/step - loss: 0.0029\n",
      "Epoch 27/100\n",
      "28/28 [==============================] - 1s 21ms/step - loss: 0.0030\n",
      "Epoch 28/100\n",
      "28/28 [==============================] - 1s 21ms/step - loss: 0.0029\n",
      "Epoch 29/100\n",
      "28/28 [==============================] - 1s 21ms/step - loss: 0.0026\n",
      "Epoch 30/100\n",
      "28/28 [==============================] - 1s 21ms/step - loss: 0.0030\n",
      "Epoch 31/100\n",
      "28/28 [==============================] - 1s 21ms/step - loss: 0.0029\n",
      "Epoch 32/100\n",
      "28/28 [==============================] - 1s 21ms/step - loss: 0.0026\n",
      "Epoch 33/100\n",
      "28/28 [==============================] - 1s 20ms/step - loss: 0.0028\n",
      "Epoch 34/100\n",
      "28/28 [==============================] - 1s 21ms/step - loss: 0.0026\n",
      "Epoch 35/100\n",
      "28/28 [==============================] - 1s 21ms/step - loss: 0.0026\n",
      "Epoch 36/100\n",
      "28/28 [==============================] - 1s 21ms/step - loss: 0.0026\n",
      "Epoch 37/100\n",
      "28/28 [==============================] - 1s 21ms/step - loss: 0.0027\n",
      "Epoch 38/100\n",
      "28/28 [==============================] - 1s 21ms/step - loss: 0.0027\n",
      "Epoch 39/100\n",
      "28/28 [==============================] - 1s 21ms/step - loss: 0.0025\n",
      "Epoch 40/100\n",
      "28/28 [==============================] - 1s 22ms/step - loss: 0.0026\n",
      "Epoch 41/100\n",
      "28/28 [==============================] - 1s 21ms/step - loss: 0.0027\n",
      "Epoch 42/100\n",
      "28/28 [==============================] - 1s 21ms/step - loss: 0.0026\n",
      "Epoch 43/100\n",
      "28/28 [==============================] - 1s 21ms/step - loss: 0.0025\n",
      "Epoch 44/100\n",
      "28/28 [==============================] - 1s 21ms/step - loss: 0.0026\n",
      "Epoch 45/100\n",
      "28/28 [==============================] - 1s 21ms/step - loss: 0.0027\n",
      "Epoch 46/100\n",
      "28/28 [==============================] - 1s 21ms/step - loss: 0.0024\n",
      "Epoch 47/100\n",
      "28/28 [==============================] - 1s 21ms/step - loss: 0.0023\n",
      "Epoch 48/100\n",
      "28/28 [==============================] - 1s 21ms/step - loss: 0.0025: 0s - loss\n",
      "Epoch 49/100\n",
      "28/28 [==============================] - 1s 21ms/step - loss: 0.0022\n",
      "Epoch 50/100\n",
      "28/28 [==============================] - 1s 20ms/step - loss: 0.0020\n",
      "Epoch 51/100\n",
      "28/28 [==============================] - 1s 21ms/step - loss: 0.0023\n",
      "Epoch 52/100\n",
      "28/28 [==============================] - 1s 21ms/step - loss: 0.0020\n",
      "Epoch 53/100\n",
      "28/28 [==============================] - 1s 21ms/step - loss: 0.0021\n",
      "Epoch 54/100\n",
      "28/28 [==============================] - 1s 20ms/step - loss: 0.0023\n",
      "Epoch 55/100\n",
      "28/28 [==============================] - 1s 21ms/step - loss: 0.0021\n",
      "Epoch 56/100\n",
      "28/28 [==============================] - 1s 21ms/step - loss: 0.0020\n",
      "Epoch 57/100\n",
      "28/28 [==============================] - 1s 21ms/step - loss: 0.0020\n",
      "Epoch 58/100\n",
      "28/28 [==============================] - 1s 21ms/step - loss: 0.0021\n",
      "Epoch 59/100\n",
      "28/28 [==============================] - 1s 21ms/step - loss: 0.0022\n",
      "Epoch 60/100\n",
      "28/28 [==============================] - 1s 21ms/step - loss: 0.0021\n",
      "Epoch 61/100\n",
      "28/28 [==============================] - 1s 21ms/step - loss: 0.0021\n",
      "Epoch 62/100\n",
      "28/28 [==============================] - 1s 21ms/step - loss: 0.0021\n",
      "Epoch 63/100\n",
      "28/28 [==============================] - 1s 20ms/step - loss: 0.0019\n",
      "Epoch 64/100\n",
      "28/28 [==============================] - 1s 21ms/step - loss: 0.0022\n",
      "Epoch 65/100\n",
      "28/28 [==============================] - 1s 21ms/step - loss: 0.0020\n",
      "Epoch 66/100\n",
      "28/28 [==============================] - 1s 21ms/step - loss: 0.0017\n",
      "Epoch 67/100\n",
      "28/28 [==============================] - 1s 22ms/step - loss: 0.0018\n",
      "Epoch 68/100\n",
      "28/28 [==============================] - 1s 22ms/step - loss: 0.0017\n",
      "Epoch 69/100\n",
      "28/28 [==============================] - 1s 21ms/step - loss: 0.0019\n",
      "Epoch 70/100\n",
      "28/28 [==============================] - 1s 21ms/step - loss: 0.0019\n",
      "Epoch 71/100\n",
      "28/28 [==============================] - 1s 21ms/step - loss: 0.0022\n",
      "Epoch 72/100\n",
      "28/28 [==============================] - 1s 21ms/step - loss: 0.0017\n",
      "Epoch 73/100\n",
      "28/28 [==============================] - 1s 21ms/step - loss: 0.0018\n",
      "Epoch 74/100\n",
      "28/28 [==============================] - 1s 21ms/step - loss: 0.0017\n",
      "Epoch 75/100\n",
      "28/28 [==============================] - 1s 21ms/step - loss: 0.0017\n",
      "Epoch 76/100\n",
      "28/28 [==============================] - 1s 21ms/step - loss: 0.0016\n",
      "Epoch 77/100\n",
      "28/28 [==============================] - 1s 22ms/step - loss: 0.0017\n",
      "Epoch 78/100\n",
      "28/28 [==============================] - 1s 21ms/step - loss: 0.0017\n",
      "Epoch 79/100\n",
      "28/28 [==============================] - 1s 21ms/step - loss: 0.0017\n",
      "Epoch 80/100\n",
      "28/28 [==============================] - 1s 21ms/step - loss: 0.0017\n",
      "Epoch 81/100\n",
      "28/28 [==============================] - 1s 21ms/step - loss: 0.0018\n",
      "Epoch 82/100\n",
      "28/28 [==============================] - 1s 21ms/step - loss: 0.0017\n",
      "Epoch 83/100\n",
      "28/28 [==============================] - 1s 21ms/step - loss: 0.0016\n",
      "Epoch 84/100\n",
      "28/28 [==============================] - 1s 21ms/step - loss: 0.0016\n",
      "Epoch 85/100\n",
      "28/28 [==============================] - 1s 21ms/step - loss: 0.0016\n",
      "Epoch 86/100\n",
      "28/28 [==============================] - 1s 21ms/step - loss: 0.0014\n",
      "Epoch 87/100\n",
      "28/28 [==============================] - 1s 20ms/step - loss: 0.0018\n",
      "Epoch 88/100\n",
      "28/28 [==============================] - 1s 21ms/step - loss: 0.0016\n",
      "Epoch 89/100\n",
      "28/28 [==============================] - 1s 21ms/step - loss: 0.0016\n",
      "Epoch 90/100\n",
      "28/28 [==============================] - 1s 21ms/step - loss: 0.0016\n",
      "Epoch 91/100\n",
      "28/28 [==============================] - 1s 21ms/step - loss: 0.0017\n",
      "Epoch 92/100\n",
      "28/28 [==============================] - 1s 21ms/step - loss: 0.0016\n",
      "Epoch 93/100\n",
      "28/28 [==============================] - 1s 21ms/step - loss: 0.0015\n",
      "Epoch 94/100\n",
      "28/28 [==============================] - 1s 21ms/step - loss: 0.0014\n",
      "Epoch 95/100\n",
      "28/28 [==============================] - 1s 22ms/step - loss: 0.0015: 0s - loss: 0.00\n",
      "Epoch 96/100\n",
      "28/28 [==============================] - 1s 21ms/step - loss: 0.0015\n",
      "Epoch 97/100\n",
      "28/28 [==============================] - 1s 21ms/step - loss: 0.0015\n",
      "Epoch 98/100\n",
      "28/28 [==============================] - 1s 21ms/step - loss: 0.0014\n",
      "Epoch 99/100\n",
      "28/28 [==============================] - 1s 21ms/step - loss: 0.0014\n",
      "Epoch 100/100\n"
     ]
    },
    {
     "name": "stdout",
     "output_type": "stream",
     "text": [
      "28/28 [==============================] - 1s 21ms/step - loss: 0.0014\n"
     ]
    }
   ],
   "source": [
    "history = model.fit(x_train, y_train, epochs=100, batch_size=64)"
   ]
  },
  {
   "cell_type": "code",
   "execution_count": 13,
   "id": "df63b265",
   "metadata": {},
   "outputs": [
    {
     "data": {
      "text/plain": [
       "dict_keys(['loss'])"
      ]
     },
     "execution_count": 13,
     "metadata": {},
     "output_type": "execute_result"
    }
   ],
   "source": [
    "history.history.keys()"
   ]
  },
  {
   "cell_type": "code",
   "execution_count": 14,
   "id": "da0077c2",
   "metadata": {},
   "outputs": [
    {
     "data": {
      "image/png": "[encoded data removed]",
      "text/plain": [
       "<Figure size 432x288 with 1 Axes>"
      ]
     },
     "metadata": {
      "needs_background": "light"
     },
     "output_type": "display_data"
    }
   ],
   "source": [
    "import matplotlib.pyplot as plt\n",
    "loss = history.history['loss']\n",
    "plt.plot(loss, label='loss')\n",
    "plt.legend()\n",
    "plt.show()"
   ]
  },
  {
   "cell_type": "code",
   "execution_count": 15,
   "id": "fcc76a00",
   "metadata": {},
   "outputs": [
    {
     "data": {
      "text/plain": [
       "(20, 1)"
      ]
     },
     "execution_count": 15,
     "metadata": {},
     "output_type": "execute_result"
    }
   ],
   "source": [
    "_x = x_train[-1]\n",
    "_x.shape"
   ]
  },
  {
   "cell_type": "code",
   "execution_count": 16,
   "id": "b54b1358",
   "metadata": {},
   "outputs": [],
   "source": [
    "_x = x_train[-1]\n",
    "_y = []\n",
    "_x = _x.reshape(-1,20,1)\n",
    "\n",
    "pred_y = model.predict(_x)\n",
    "\n",
    "for i in range(40):\n",
    "    pred_y = model.predict(_x)\n",
    "    _y.append(pred_y[0,0])\n",
    "    tmp = np.append(_x.reshape(20,), pred_y[0,0]) \n",
    "    tmp = np.delete(tmp,0)\n",
    "    # tmp.shape   # (20,)\n",
    "    _x = tmp.reshape(-1,20,1)"
   ]
  },
  {
   "cell_type": "code",
   "execution_count": 17,
   "id": "b3734c6f",
   "metadata": {},
   "outputs": [
    {
     "data": {
      "text/plain": [
       "(20, 1)"
      ]
     },
     "execution_count": 17,
     "metadata": {},
     "output_type": "execute_result"
    }
   ],
   "source": [
    "test.shape"
   ]
  },
  {
   "cell_type": "code",
   "execution_count": 18,
   "id": "7f87df02",
   "metadata": {
    "scrolled": true
   },
   "outputs": [
    {
     "data": {
      "image/png": "[encoded data removed]",
      "text/plain": [
       "<Figure size 432x288 with 1 Axes>"
      ]
     },
     "metadata": {
      "needs_background": "light"
     },
     "output_type": "display_data"
    }
   ],
   "source": [
    "import matplotlib.pyplot as plt\n",
    "plt.plot(test.reshape(20,), label='actual')\n",
    "plt.plot(_y, label='prediction')\n",
    "plt.legend()\n",
    "plt.show()"
   ]
  },
  {
   "cell_type": "code",
   "execution_count": 19,
   "id": "a5d79687",
   "metadata": {},
   "outputs": [],
   "source": [
    "actual = sc.inverse_transform(test.reshape(-1,1))\n",
    "pred = sc.inverse_transform(np.array(_y).reshape(-1,1))"
   ]
  },
  {
   "cell_type": "code",
   "execution_count": 20,
   "id": "2517a7db",
   "metadata": {},
   "outputs": [
    {
     "data": {
      "image/png": "[encoded data removed]",
      "text/plain": [
       "<Figure size 432x288 with 1 Axes>"
      ]
     },
     "metadata": {
      "needs_background": "light"
     },
     "output_type": "display_data"
    }
   ],
   "source": [
    "plt.plot(actual, label='actual')\n",
    "plt.plot(pred, label='prediction')\n",
    "plt.xlabel('times')\n",
    "plt.ylabel('stock price')\n",
    "plt.legend()\n",
    "plt.show()"
   ]
  }
 ],
 "metadata": {
  "kernelspec": {
   "display_name": "Python 3 (ipykernel)",
   "language": "python",
   "name": "python3"
  },
  "language_info": {
   "codemirror_mode": {
    "name": "ipython",
    "version": 3
   },
   "file_extension": ".py",
   "mimetype": "text/x-python",
   "name": "python",
   "nbconvert_exporter": "python",
   "pygments_lexer": "ipython3",
   "version": "3.9.7"
  }
 },
 "nbformat": 4,
 "nbformat_minor": 5
}
